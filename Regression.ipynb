{
 "cells": [
  {
   "cell_type": "code",
   "execution_count": 88,
   "metadata": {},
   "outputs": [],
   "source": [
    "import pandas as pd"
   ]
  },
  {
   "cell_type": "code",
   "execution_count": 89,
   "metadata": {},
   "outputs": [],
   "source": [
    "#creating data frame from csv\n",
    "complete_data1= pd.read_csv('train.csv')\n",
    "from sklearn import preprocessing\n",
    "heading = list(complete_data1.columns.values)\n"
   ]
  },
  {
   "cell_type": "code",
   "execution_count": 90,
   "metadata": {},
   "outputs": [],
   "source": [
    "from sklearn.model_selection import train_test_split\n",
    "from sklearn import metrics\n",
    "\n",
    "import  sklearn.linear_model\n",
    "from sklearn.linear_model import RidgeCV,Ridge\n",
    "\n",
    "from sklearn.decomposition import PCA\n",
    "from sklearn.linear_model import ElasticNet,ElasticNetCV\n",
    "from sklearn.metrics import mean_squared_error\n",
    "from sklearn.linear_model import  LinearRegression"
   ]
  },
  {
   "cell_type": "code",
   "execution_count": 91,
   "metadata": {},
   "outputs": [],
   "source": [
    "#data cleaning\n",
    "def dataClean():\n",
    "    complete_data=complete_data1\n",
    "    col_null_values=complete_data.columns[complete_data.isnull().any()]\n",
    "    \n",
    "    for c in col_null_values:\n",
    "        if complete_data[c].isnull().sum()*100.0/complete_data.shape[0]>50:\n",
    "            complete_data.drop(c,axis=1)\n",
    "\n",
    "    for c in complete_data:\n",
    "        if complete_data[c].dtype!=object:\n",
    "            median=complete_data[c].median()\n",
    "            complete_data[c].fillna(median,inplace=True)\n",
    "\n",
    "    return complete_data"
   ]
  },
  {
   "cell_type": "code",
   "execution_count": 92,
   "metadata": {},
   "outputs": [],
   "source": [
    "def encoding():\n",
    "    label=preprocessing.LabelEncoder()\n",
    "    a=dataClean()\n",
    "    obj=a.select_dtypes(include=['object']).copy()\n",
    "    obj[obj.isnull().any(axis=1)]\n",
    "    heading = list(obj.columns.values)\n",
    "\n",
    "    print(len(heading))\n",
    "    for i in range(len(heading)):\n",
    "\n",
    "        a[heading[i]]=label.fit_transform(a[heading[i]])\n",
    "    return a\n"
   ]
  },
  {
   "cell_type": "code",
   "execution_count": 93,
   "metadata": {},
   "outputs": [],
   "source": [
    "def ordinary_least_square():\n",
    "    df=dataClean()\n",
    "    df.fillna(method='ffill',inplace=True)\n",
    "\n",
    "    y=df['SalePrice'].values.reshape(-1,1)\n",
    "    X=df['OverallCond'].values.reshape(-1,1)\n",
    "\n",
    "\n",
    "    train_x,test_x,train_y,test_y=train_test_split(X,y,test_size=0.4,random_state=42)\n",
    "    lr = LinearRegression()\n",
    "    lr.fit(train_x, train_y)\n",
    "    pred_y = lr.predict(test_x)\n",
    "    mse = metrics.mean_squared_error(test_y, pred_y)\n",
    "\n",
    "    print(\"Mean Squared Error for linear regression ---> \",mse)\n",
    "\n",
    "    y_pred=lr.predict(test_x);\n",
    "    aa=pd.DataFrame({'Actual':test_y.flatten(),'Predicted':y_pred.flatten()})"
   ]
  },
  {
   "cell_type": "code",
   "execution_count": 94,
   "metadata": {},
   "outputs": [],
   "source": [
    "def ab():\n",
    "    cleanData=dataClean()\n",
    "    encoding()\n",
    "    y = cleanData['SalePrice']\n",
    "    del cleanData['SalePrice']\n",
    "    x = cleanData\n",
    "\n",
    "\n",
    "    return x,y"
   ]
  },
  {
   "cell_type": "code",
   "execution_count": 95,
   "metadata": {},
   "outputs": [
    {
     "name": "stdout",
     "output_type": "stream",
     "text": [
      "Mean Squared Error for linear regression --->  7194938919.253526\n"
     ]
    }
   ],
   "source": [
    "\n",
    "ordinary_least_square()\n",
    " \n",
    "\n"
   ]
  }
 ],
 "metadata": {
  "kernelspec": {
   "display_name": "Python 3",
   "language": "python",
   "name": "python3"
  },
  "language_info": {
   "codemirror_mode": {
    "name": "ipython",
    "version": 3
   },
   "file_extension": ".py",
   "mimetype": "text/x-python",
   "name": "python",
   "nbconvert_exporter": "python",
   "pygments_lexer": "ipython3",
   "version": "3.11.4"
  }
 },
 "nbformat": 4,
 "nbformat_minor": 2
}
